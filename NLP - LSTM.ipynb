{
 "cells": [
  {
   "cell_type": "markdown",
   "id": "fa7b1dd0-1c40-4b8f-9de1-e6ad87048bce",
   "metadata": {},
   "source": [
    "# Tokenização:"
   ]
  },
  {
   "cell_type": "code",
   "execution_count": 1,
   "id": "1915c97f-0bf9-44b3-b2a0-efabfd36b47b",
   "metadata": {
    "tags": []
   },
   "outputs": [
    {
     "name": "stdout",
     "output_type": "stream",
     "text": [
      "{'love': 1, 'my': 2, 'i': 3, 'dog': 4, 'cat': 5, 'you': 6}\n"
     ]
    }
   ],
   "source": [
    "from tensorflow.keras.preprocessing.text import Tokenizer \n",
    "\n",
    "sentences = [\n",
    "    'i love my dog',\n",
    "    'I, love my cat',\n",
    "    'You love my dog!'\n",
    "]\n",
    "\n",
    "# num_words vai priorizar as palavras que mais se repetem\n",
    "\n",
    "tokenizer = Tokenizer(num_words = 100)\n",
    "tokenizer.fit_on_texts(sentences)\n",
    "word_index = tokenizer.word_index\n",
    "print(word_index)"
   ]
  },
  {
   "cell_type": "markdown",
   "id": "81368fa8-2d16-41f3-ba0e-57d466f63037",
   "metadata": {},
   "source": [
    "Primeiro temos o Tokenizer, ele apenas atribui um numero para cada palavra"
   ]
  },
  {
   "cell_type": "markdown",
   "id": "9f89d437-d04b-46d1-b2b4-fff97e012dae",
   "metadata": {},
   "source": [
    "# Padding:"
   ]
  },
  {
   "cell_type": "code",
   "execution_count": 2,
   "id": "0bb7444f-973d-4c95-b192-fd230a053d94",
   "metadata": {
    "tags": []
   },
   "outputs": [
    {
     "name": "stdout",
     "output_type": "stream",
     "text": [
      "\n",
      "Word Index =  {'<OOV>': 1, 'my': 2, 'love': 3, 'dog': 4, 'i': 5, 'you': 6, 'cat': 7, 'do': 8, 'think': 9, 'is': 10, 'amazing': 11}\n",
      "\n",
      "Sequences =  [[5, 3, 2, 4], [5, 3, 2, 7], [6, 3, 2, 4], [8, 6, 9, 2, 4, 10, 11]]\n",
      "\n",
      "Padded Sequences:\n",
      "[[ 0  5  3  2  4]\n",
      " [ 0  5  3  2  7]\n",
      " [ 0  6  3  2  4]\n",
      " [ 9  2  4 10 11]]\n"
     ]
    }
   ],
   "source": [
    "from tensorflow.keras.preprocessing.sequence import pad_sequences\n",
    "\n",
    "sentences = [\n",
    "    'I love my dog',\n",
    "    'I love my cat',\n",
    "    'You love my dog!',\n",
    "    'Do you think my dog is amazing?'\n",
    "]\n",
    "\n",
    "# Inserimos o OOV para trabalhar com palavras que não estão catalogadas\n",
    "\n",
    "tokenizer = Tokenizer(num_words = 100, oov_token=\"<OOV>\")\n",
    "tokenizer.fit_on_texts(sentences)\n",
    "word_index = tokenizer.word_index\n",
    "\n",
    "sequences = tokenizer.texts_to_sequences(sentences)\n",
    "\n",
    "# O Pad define blocos com o mesmo tamanho para todas as sequencias\n",
    "padded = pad_sequences(sequences, maxlen=5)\n",
    "print(\"\\nWord Index = \" , word_index)\n",
    "print(\"\\nSequences = \" , sequences)\n",
    "print(\"\\nPadded Sequences:\")\n",
    "print(padded)"
   ]
  },
  {
   "cell_type": "code",
   "execution_count": 4,
   "id": "5bc6dfdb-e999-47e5-8deb-2a9df3079752",
   "metadata": {
    "tags": []
   },
   "outputs": [
    {
     "name": "stdout",
     "output_type": "stream",
     "text": [
      "\n",
      "Padded Sequences:\n",
      "[[ 0  0  0  0  5  3  2  4]\n",
      " [ 0  0  0  0  5  3  2  7]\n",
      " [ 0  0  0  0  6  3  2  4]\n",
      " [ 0  8  6  9  2  4 10 11]]\n"
     ]
    }
   ],
   "source": [
    "padded = pad_sequences(sequences, maxlen=8)\n",
    "print(\"\\nPadded Sequences:\")\n",
    "print(padded)"
   ]
  },
  {
   "cell_type": "code",
   "execution_count": 8,
   "id": "99ea2f73-e99a-47da-b920-ae6a32b6378d",
   "metadata": {
    "tags": []
   },
   "outputs": [
    {
     "name": "stdout",
     "output_type": "stream",
     "text": [
      "\n",
      "Test Sequence =  [[5, 1, 3, 2, 4], [2, 4, 1, 2, 1]]\n",
      "\n",
      "Padded Test Sequence: \n",
      "[[0 0 0 5 1 3 2 4]\n",
      " [0 0 0 2 4 1 2 1]]\n"
     ]
    }
   ],
   "source": [
    "# Testar com dados não catalogados\n",
    "\n",
    "test_data = [\n",
    "    'i really love my dog',\n",
    "    'my dog loves my manatee'\n",
    "]\n",
    "\n",
    "test_seq = tokenizer.texts_to_sequences(test_data)\n",
    "print(\"\\nTest Sequence = \", test_seq)\n",
    "\n",
    "padded = pad_sequences(test_seq, maxlen=8)\n",
    "print(\"\\nPadded Test Sequence: \")\n",
    "print(padded)"
   ]
  },
  {
   "cell_type": "markdown",
   "id": "d43cd8b1-8a68-42d4-8521-cd4bca68b46d",
   "metadata": {},
   "source": [
    "# Treino com Classificação:"
   ]
  },
  {
   "cell_type": "code",
   "execution_count": 9,
   "id": "3c275822-d2fc-4962-9318-f5c4bae5f22d",
   "metadata": {
    "tags": []
   },
   "outputs": [],
   "source": [
    "import json\n",
    "import tensorflow as tf"
   ]
  },
  {
   "cell_type": "code",
   "execution_count": 11,
   "id": "7540fb55-4d6d-4b10-a11b-536c58705ec7",
   "metadata": {
    "tags": []
   },
   "outputs": [],
   "source": [
    "with open(\"sarcasm.json\", 'r') as f:\n",
    "    datastore = json.load(f)\n",
    "\n",
    "sentences = []\n",
    "labels = []\n",
    "\n",
    "for item in datastore:\n",
    "    sentences.append(item['headline'])\n",
    "    labels.append(item['is_sarcastic'])"
   ]
  },
  {
   "cell_type": "code",
   "execution_count": 17,
   "id": "3ffe6ccd-66a7-422e-bf89-aa350bf6bce2",
   "metadata": {
    "tags": []
   },
   "outputs": [
    {
     "data": {
      "text/plain": [
       "26709"
      ]
     },
     "execution_count": 17,
     "metadata": {},
     "output_type": "execute_result"
    }
   ],
   "source": [
    "len(datastore)"
   ]
  },
  {
   "cell_type": "code",
   "execution_count": 13,
   "id": "56f6d99c-941d-4f6f-b957-2b4dc7cf665c",
   "metadata": {
    "tags": []
   },
   "outputs": [
    {
     "data": {
      "text/plain": [
       "[\"former versace store clerk sues over secret 'black code' for minority shoppers\",\n",
       " \"the 'roseanne' revival catches up to our thorny political mood, for better and worse\",\n",
       " \"mom starting to fear son's web series closest thing she will have to grandchild\",\n",
       " 'boehner just wants wife to listen, not come up with alternative debt-reduction ideas',\n",
       " 'j.k. rowling wishes snape happy birthday in the most magical way']"
      ]
     },
     "execution_count": 13,
     "metadata": {},
     "output_type": "execute_result"
    }
   ],
   "source": [
    "sentences[0:5]"
   ]
  },
  {
   "cell_type": "code",
   "execution_count": 14,
   "id": "a9159c85-ac26-4ca3-8259-3031e51110b3",
   "metadata": {
    "tags": []
   },
   "outputs": [
    {
     "data": {
      "text/plain": [
       "[0, 0, 1, 1, 0]"
      ]
     },
     "execution_count": 14,
     "metadata": {},
     "output_type": "execute_result"
    }
   ],
   "source": [
    "labels[0:5]"
   ]
  },
  {
   "cell_type": "code",
   "execution_count": 19,
   "id": "6c38b045-9009-434c-b7da-3ed71a969707",
   "metadata": {
    "tags": []
   },
   "outputs": [],
   "source": [
    "training_size = 20000"
   ]
  },
  {
   "cell_type": "code",
   "execution_count": 20,
   "id": "742e8ffb-899e-48d5-b666-ce4280c119e7",
   "metadata": {
    "tags": []
   },
   "outputs": [],
   "source": [
    "training_sentences = sentences[0:training_size]\n",
    "testing_sentences = sentences[training_size:]\n",
    "training_labels = labels[0:training_size]\n",
    "testing_labels = labels[training_size:]"
   ]
  },
  {
   "cell_type": "code",
   "execution_count": 21,
   "id": "6aeee409-d279-4428-91e5-27a313c3137a",
   "metadata": {
    "tags": []
   },
   "outputs": [],
   "source": [
    "vocab_size = 10000\n",
    "oov_tok = \"<OOV>\"\n",
    "max_length = 100\n",
    "padding_type='post'\n",
    "trunc_type='post'"
   ]
  },
  {
   "cell_type": "code",
   "execution_count": 22,
   "id": "b938bce2-2632-4432-a639-c4a1a67a0503",
   "metadata": {
    "tags": []
   },
   "outputs": [],
   "source": [
    "tokenizer = Tokenizer(num_words=vocab_size, oov_token=oov_tok)\n",
    "tokenizer.fit_on_texts(training_sentences)\n",
    "\n",
    "word_index = tokenizer.word_index\n",
    "\n",
    "training_sequences = tokenizer.texts_to_sequences(training_sentences)\n",
    "training_padded = pad_sequences(training_sequences, maxlen=max_length, padding=padding_type, truncating=trunc_type)\n",
    "\n",
    "testing_sequences = tokenizer.texts_to_sequences(testing_sentences)\n",
    "testing_padded = pad_sequences(testing_sequences, maxlen=max_length, padding=padding_type, truncating=trunc_type)"
   ]
  },
  {
   "cell_type": "code",
   "execution_count": 23,
   "id": "52e6a6a0-c47e-49ee-b3eb-c138c83dad2c",
   "metadata": {
    "tags": []
   },
   "outputs": [],
   "source": [
    "import numpy as np\n",
    "training_padded = np.array(training_padded)\n",
    "training_labels = np.array(training_labels)\n",
    "testing_padded = np.array(testing_padded)\n",
    "testing_labels = np.array(testing_labels)"
   ]
  },
  {
   "cell_type": "code",
   "execution_count": 24,
   "id": "21cf0a68-2c0f-454d-88de-e8091010a833",
   "metadata": {
    "tags": []
   },
   "outputs": [],
   "source": [
    "embedding_dim = 16"
   ]
  },
  {
   "cell_type": "code",
   "execution_count": 25,
   "id": "aa730c50-6f2d-490b-be2e-59e7ef5abbdd",
   "metadata": {
    "tags": []
   },
   "outputs": [],
   "source": [
    "model = tf.keras.Sequential([\n",
    "    tf.keras.layers.Embedding(vocab_size, embedding_dim, input_length=max_length),\n",
    "    tf.keras.layers.GlobalAveragePooling1D(),\n",
    "    tf.keras.layers.Dense(24, activation='relu'),\n",
    "    tf.keras.layers.Dense(1, activation='sigmoid')\n",
    "])\n",
    "model.compile(loss='binary_crossentropy',optimizer='adam',metrics=['accuracy'])"
   ]
  },
  {
   "cell_type": "code",
   "execution_count": 26,
   "id": "b05b3d09-8efa-4a60-b714-6d52f56e79ba",
   "metadata": {
    "tags": []
   },
   "outputs": [
    {
     "name": "stdout",
     "output_type": "stream",
     "text": [
      "Model: \"sequential\"\n",
      "_________________________________________________________________\n",
      " Layer (type)                Output Shape              Param #   \n",
      "=================================================================\n",
      " embedding (Embedding)       (None, 100, 16)           160000    \n",
      "                                                                 \n",
      " global_average_pooling1d (G  (None, 16)               0         \n",
      " lobalAveragePooling1D)                                          \n",
      "                                                                 \n",
      " dense (Dense)               (None, 24)                408       \n",
      "                                                                 \n",
      " dense_1 (Dense)             (None, 1)                 25        \n",
      "                                                                 \n",
      "=================================================================\n",
      "Total params: 160,433\n",
      "Trainable params: 160,433\n",
      "Non-trainable params: 0\n",
      "_________________________________________________________________\n"
     ]
    }
   ],
   "source": [
    "model.summary()"
   ]
  },
  {
   "cell_type": "code",
   "execution_count": 27,
   "id": "b4fb3831-52ef-42c8-ae4f-767d4187da1c",
   "metadata": {
    "tags": []
   },
   "outputs": [
    {
     "name": "stdout",
     "output_type": "stream",
     "text": [
      "Epoch 1/30\n",
      "625/625 - 2s - loss: 0.6720 - accuracy: 0.5634 - val_loss: 0.6214 - val_accuracy: 0.6081 - 2s/epoch - 3ms/step\n",
      "Epoch 2/30\n",
      "625/625 - 1s - loss: 0.4723 - accuracy: 0.8002 - val_loss: 0.3960 - val_accuracy: 0.8396 - 1s/epoch - 2ms/step\n",
      "Epoch 3/30\n",
      "625/625 - 1s - loss: 0.3192 - accuracy: 0.8738 - val_loss: 0.3716 - val_accuracy: 0.8353 - 1s/epoch - 2ms/step\n",
      "Epoch 4/30\n",
      "625/625 - 1s - loss: 0.2622 - accuracy: 0.8967 - val_loss: 0.3444 - val_accuracy: 0.8566 - 1s/epoch - 2ms/step\n",
      "Epoch 5/30\n",
      "625/625 - 1s - loss: 0.2262 - accuracy: 0.9117 - val_loss: 0.3510 - val_accuracy: 0.8515 - 1s/epoch - 2ms/step\n",
      "Epoch 6/30\n",
      "625/625 - 1s - loss: 0.1990 - accuracy: 0.9235 - val_loss: 0.3563 - val_accuracy: 0.8523 - 1s/epoch - 2ms/step\n",
      "Epoch 7/30\n",
      "625/625 - 1s - loss: 0.1752 - accuracy: 0.9338 - val_loss: 0.3634 - val_accuracy: 0.8550 - 1s/epoch - 2ms/step\n",
      "Epoch 8/30\n",
      "625/625 - 1s - loss: 0.1576 - accuracy: 0.9413 - val_loss: 0.3794 - val_accuracy: 0.8539 - 1s/epoch - 2ms/step\n",
      "Epoch 9/30\n",
      "625/625 - 1s - loss: 0.1420 - accuracy: 0.9484 - val_loss: 0.4009 - val_accuracy: 0.8486 - 1s/epoch - 2ms/step\n",
      "Epoch 10/30\n",
      "625/625 - 1s - loss: 0.1274 - accuracy: 0.9547 - val_loss: 0.4200 - val_accuracy: 0.8477 - 1s/epoch - 2ms/step\n",
      "Epoch 11/30\n",
      "625/625 - 1s - loss: 0.1159 - accuracy: 0.9598 - val_loss: 0.4467 - val_accuracy: 0.8444 - 1s/epoch - 2ms/step\n",
      "Epoch 12/30\n",
      "625/625 - 1s - loss: 0.1076 - accuracy: 0.9620 - val_loss: 0.4751 - val_accuracy: 0.8401 - 1s/epoch - 2ms/step\n",
      "Epoch 13/30\n",
      "625/625 - 1s - loss: 0.0968 - accuracy: 0.9675 - val_loss: 0.4933 - val_accuracy: 0.8427 - 1s/epoch - 2ms/step\n",
      "Epoch 14/30\n",
      "625/625 - 1s - loss: 0.0892 - accuracy: 0.9700 - val_loss: 0.5169 - val_accuracy: 0.8422 - 1s/epoch - 2ms/step\n",
      "Epoch 15/30\n",
      "625/625 - 1s - loss: 0.0820 - accuracy: 0.9726 - val_loss: 0.5497 - val_accuracy: 0.8390 - 1s/epoch - 2ms/step\n",
      "Epoch 16/30\n",
      "625/625 - 1s - loss: 0.0751 - accuracy: 0.9762 - val_loss: 0.5735 - val_accuracy: 0.8366 - 1s/epoch - 2ms/step\n",
      "Epoch 17/30\n",
      "625/625 - 1s - loss: 0.0682 - accuracy: 0.9792 - val_loss: 0.6307 - val_accuracy: 0.8326 - 1s/epoch - 2ms/step\n",
      "Epoch 18/30\n",
      "625/625 - 1s - loss: 0.0628 - accuracy: 0.9804 - val_loss: 0.6421 - val_accuracy: 0.8314 - 1s/epoch - 2ms/step\n",
      "Epoch 19/30\n",
      "625/625 - 1s - loss: 0.0587 - accuracy: 0.9800 - val_loss: 0.6785 - val_accuracy: 0.8284 - 1s/epoch - 2ms/step\n",
      "Epoch 20/30\n",
      "625/625 - 1s - loss: 0.0530 - accuracy: 0.9838 - val_loss: 0.7095 - val_accuracy: 0.8267 - 1s/epoch - 2ms/step\n",
      "Epoch 21/30\n",
      "625/625 - 1s - loss: 0.0487 - accuracy: 0.9848 - val_loss: 0.7441 - val_accuracy: 0.8249 - 1s/epoch - 2ms/step\n",
      "Epoch 22/30\n",
      "625/625 - 1s - loss: 0.0442 - accuracy: 0.9872 - val_loss: 0.7986 - val_accuracy: 0.8226 - 1s/epoch - 2ms/step\n",
      "Epoch 23/30\n",
      "625/625 - 1s - loss: 0.0412 - accuracy: 0.9881 - val_loss: 0.8344 - val_accuracy: 0.8208 - 1s/epoch - 2ms/step\n",
      "Epoch 24/30\n",
      "625/625 - 1s - loss: 0.0366 - accuracy: 0.9897 - val_loss: 0.8890 - val_accuracy: 0.8185 - 1s/epoch - 2ms/step\n",
      "Epoch 25/30\n",
      "625/625 - 1s - loss: 0.0348 - accuracy: 0.9895 - val_loss: 0.9238 - val_accuracy: 0.8161 - 1s/epoch - 2ms/step\n",
      "Epoch 26/30\n",
      "625/625 - 1s - loss: 0.0333 - accuracy: 0.9894 - val_loss: 0.9539 - val_accuracy: 0.8162 - 1s/epoch - 2ms/step\n",
      "Epoch 27/30\n",
      "625/625 - 1s - loss: 0.0301 - accuracy: 0.9911 - val_loss: 1.0529 - val_accuracy: 0.8162 - 1s/epoch - 2ms/step\n",
      "Epoch 28/30\n",
      "625/625 - 1s - loss: 0.0266 - accuracy: 0.9925 - val_loss: 1.0120 - val_accuracy: 0.8123 - 1s/epoch - 2ms/step\n",
      "Epoch 29/30\n",
      "625/625 - 1s - loss: 0.0242 - accuracy: 0.9930 - val_loss: 1.0638 - val_accuracy: 0.8144 - 1s/epoch - 2ms/step\n",
      "Epoch 30/30\n",
      "625/625 - 1s - loss: 0.0244 - accuracy: 0.9932 - val_loss: 1.1131 - val_accuracy: 0.8156 - 1s/epoch - 2ms/step\n"
     ]
    }
   ],
   "source": [
    "num_epochs = 30\n",
    "history = model.fit(training_padded, training_labels, epochs=num_epochs, validation_data=(testing_padded, testing_labels), verbose=2)"
   ]
  },
  {
   "cell_type": "code",
   "execution_count": 28,
   "id": "48d63d5e-7b79-497a-a27a-8995b6ae0148",
   "metadata": {
    "tags": []
   },
   "outputs": [
    {
     "data": {
      "image/png": "[encoded data removed]",
      "text/plain": [
       "<Figure size 640x480 with 1 Axes>"
      ]
     },
     "metadata": {},
     "output_type": "display_data"
    },
    {
     "data": {
      "image/png": "[encoded data removed]",
      "text/plain": [
       "<Figure size 640x480 with 1 Axes>"
      ]
     },
     "metadata": {},
     "output_type": "display_data"
    }
   ],
   "source": [
    "import matplotlib.pyplot as plt\n",
    "\n",
    "\n",
    "def plot_graphs(history, string):\n",
    "    plt.plot(history.history[string])\n",
    "    plt.plot(history.history['val_'+string])\n",
    "    plt.xlabel(\"Epochs\")\n",
    "    plt.ylabel(string)\n",
    "    plt.legend([string, 'val_'+string])\n",
    "    plt.show()\n",
    "\n",
    "plot_graphs(history, \"accuracy\")\n",
    "plot_graphs(history, \"loss\")"
   ]
  },
  {
   "cell_type": "code",
   "execution_count": 31,
   "id": "66df3a61-ca1d-4182-b675-6178f566c1ae",
   "metadata": {
    "tags": []
   },
   "outputs": [
    {
     "name": "stdout",
     "output_type": "stream",
     "text": [
      "(10000, 16)\n"
     ]
    }
   ],
   "source": [
    "e = model.layers[0]\n",
    "weights = e.get_weights()[0]\n",
    "print(weights.shape)\n",
    "# shape: (vocab_size, embedding_dim)"
   ]
  },
  {
   "cell_type": "code",
   "execution_count": 32,
   "id": "97d7c995-a1e3-4252-98c3-750ae7268211",
   "metadata": {
    "tags": []
   },
   "outputs": [
    {
     "name": "stdout",
     "output_type": "stream",
     "text": [
      "1/1 [==============================] - 0s 76ms/step\n",
      "[[8.9678144e-01]\n",
      " [2.3959792e-06]]\n"
     ]
    }
   ],
   "source": [
    "sentence = [\"granny starting to fear spiders in the garden might be real\", \"game of thrones season finale showing this sunday night\"]\n",
    "sequences = tokenizer.texts_to_sequences(sentence)\n",
    "padded = pad_sequences(sequences, maxlen=max_length, padding=padding_type, truncating=trunc_type)\n",
    "print(model.predict(padded))"
   ]
  },
  {
   "cell_type": "markdown",
   "id": "0a4a0251-4a85-4141-8ec0-2a71f65e8b82",
   "metadata": {},
   "source": [
    "# LSTM:"
   ]
  },
  {
   "cell_type": "code",
   "execution_count": 33,
   "id": "836ed140-8f6e-4ace-a68a-a142bdd4b83d",
   "metadata": {
    "tags": []
   },
   "outputs": [],
   "source": [
    "import tensorflow as tf\n",
    "\n",
    "from tensorflow.keras.preprocessing.sequence import pad_sequences\n",
    "from tensorflow.keras.layers import Embedding, LSTM, Dense, Bidirectional\n",
    "from tensorflow.keras.preprocessing.text import Tokenizer\n",
    "from tensorflow.keras.models import Sequential\n",
    "from tensorflow.keras.optimizers import Adam\n",
    "import numpy as np "
   ]
  },
  {
   "cell_type": "code",
   "execution_count": 35,
   "id": "a0762aac-0cde-4f84-9a29-a0a222835cce",
   "metadata": {
    "tags": []
   },
   "outputs": [
    {
     "name": "stdout",
     "output_type": "stream",
     "text": [
      "2690\n"
     ]
    }
   ],
   "source": [
    "tokenizer = Tokenizer()\n",
    "\n",
    "data = open('irish-lyrics-eof.txt').read()\n",
    "\n",
    "corpus = data.lower().split(\"\\n\")\n",
    "\n",
    "tokenizer.fit_on_texts(corpus)\n",
    "total_words = len(tokenizer.word_index) + 1\n",
    "\n",
    "# print(tokenizer.word_index)\n",
    "print(total_words)"
   ]
  },
  {
   "cell_type": "code",
   "execution_count": 36,
   "id": "7481b7ae-55b3-4a4a-a928-6bc302a5db01",
   "metadata": {
    "tags": []
   },
   "outputs": [],
   "source": [
    "input_sequences = []\n",
    "for line in corpus:\n",
    "    token_list = tokenizer.texts_to_sequences([line])[0]\n",
    "    for i in range(1, len(token_list)):\n",
    "        n_gram_sequence = token_list[:i+1]\n",
    "        input_sequences.append(n_gram_sequence)\n",
    "\n",
    "# pad sequences \n",
    "max_sequence_len = max([len(x) for x in input_sequences])\n",
    "input_sequences = np.array(pad_sequences(input_sequences, maxlen=max_sequence_len, padding='pre'))\n",
    "\n",
    "# create predictors and label\n",
    "xs, labels = input_sequences[:,:-1],input_sequences[:,-1]\n",
    "\n",
    "ys = tf.keras.utils.to_categorical(labels, num_classes=total_words)"
   ]
  },
  {
   "cell_type": "code",
   "execution_count": 39,
   "id": "90835747-56cb-4d73-b043-a20f68fa15e9",
   "metadata": {
    "tags": []
   },
   "outputs": [
    {
     "name": "stdout",
     "output_type": "stream",
     "text": [
      "8\n",
      "1\n",
      "71\n",
      "6\n",
      "713\n",
      "39\n",
      "1790\n",
      "1791\n"
     ]
    }
   ],
   "source": [
    "print(tokenizer.word_index['in'])\n",
    "print(tokenizer.word_index['the'])\n",
    "print(tokenizer.word_index['town'])\n",
    "print(tokenizer.word_index['of'])\n",
    "print(tokenizer.word_index['athy'])\n",
    "print(tokenizer.word_index['one'])\n",
    "print(tokenizer.word_index['jeremy'])\n",
    "print(tokenizer.word_index['lanigan'])"
   ]
  },
  {
   "cell_type": "code",
   "execution_count": 42,
   "id": "d1d259c7-4145-4159-bc55-231150ae14a7",
   "metadata": {
    "tags": []
   },
   "outputs": [
    {
     "name": "stderr",
     "output_type": "stream",
     "text": [
      "WARNING:absl:`lr` is deprecated in Keras optimizer, please use `learning_rate` or use the legacy optimizer, e.g.,tf.keras.optimizers.legacy.Adam.\n"
     ]
    },
    {
     "name": "stdout",
     "output_type": "stream",
     "text": [
      "Epoch 1/100\n",
      "377/377 [==============================] - 13s 26ms/step - loss: 6.7533 - accuracy: 0.0648\n",
      "Epoch 2/100\n",
      "377/377 [==============================] - 10s 26ms/step - loss: 6.2458 - accuracy: 0.0764\n",
      "Epoch 3/100\n",
      "377/377 [==============================] - 10s 25ms/step - loss: 5.9662 - accuracy: 0.0846\n",
      "Epoch 4/100\n",
      "377/377 [==============================] - 10s 27ms/step - loss: 5.6479 - accuracy: 0.1023\n",
      "Epoch 5/100\n",
      "377/377 [==============================] - 11s 28ms/step - loss: 5.3068 - accuracy: 0.1185\n",
      "Epoch 6/100\n",
      "377/377 [==============================] - 10s 27ms/step - loss: 4.9456 - accuracy: 0.1395\n",
      "Epoch 7/100\n",
      "377/377 [==============================] - 11s 29ms/step - loss: 4.5747 - accuracy: 0.1581\n",
      "Epoch 8/100\n",
      "377/377 [==============================] - 10s 27ms/step - loss: 4.2152 - accuracy: 0.1852\n",
      "Epoch 9/100\n",
      "377/377 [==============================] - 10s 27ms/step - loss: 3.8592 - accuracy: 0.2200\n",
      "Epoch 10/100\n",
      "377/377 [==============================] - 10s 27ms/step - loss: 3.5244 - accuracy: 0.2675\n",
      "Epoch 11/100\n",
      "377/377 [==============================] - 10s 27ms/step - loss: 3.2021 - accuracy: 0.3258\n",
      "Epoch 12/100\n",
      "377/377 [==============================] - 10s 27ms/step - loss: 2.9195 - accuracy: 0.3793\n",
      "Epoch 13/100\n",
      "377/377 [==============================] - 13s 33ms/step - loss: 2.6442 - accuracy: 0.4325\n",
      "Epoch 14/100\n",
      "377/377 [==============================] - 13s 33ms/step - loss: 2.4043 - accuracy: 0.4831\n",
      "Epoch 15/100\n",
      "377/377 [==============================] - 14s 38ms/step - loss: 2.1817 - accuracy: 0.5292\n",
      "Epoch 16/100\n",
      "377/377 [==============================] - 11s 28ms/step - loss: 1.9865 - accuracy: 0.5739\n",
      "Epoch 17/100\n",
      "377/377 [==============================] - 10s 27ms/step - loss: 1.8097 - accuracy: 0.6098\n",
      "Epoch 18/100\n",
      "377/377 [==============================] - 10s 26ms/step - loss: 1.6602 - accuracy: 0.6443\n",
      "Epoch 19/100\n",
      "377/377 [==============================] - 10s 26ms/step - loss: 1.5157 - accuracy: 0.6792\n",
      "Epoch 20/100\n",
      "377/377 [==============================] - 10s 26ms/step - loss: 1.3863 - accuracy: 0.7067\n",
      "Epoch 21/100\n",
      "377/377 [==============================] - 10s 25ms/step - loss: 1.2858 - accuracy: 0.7279\n",
      "Epoch 22/100\n",
      "377/377 [==============================] - 9s 25ms/step - loss: 1.1860 - accuracy: 0.7490\n",
      "Epoch 23/100\n",
      "377/377 [==============================] - 10s 26ms/step - loss: 1.1026 - accuracy: 0.7677\n",
      "Epoch 24/100\n",
      "377/377 [==============================] - 10s 26ms/step - loss: 1.0273 - accuracy: 0.7836\n",
      "Epoch 25/100\n",
      "377/377 [==============================] - 10s 26ms/step - loss: 0.9547 - accuracy: 0.8000\n",
      "Epoch 26/100\n",
      "377/377 [==============================] - 10s 26ms/step - loss: 0.8942 - accuracy: 0.8101\n",
      "Epoch 27/100\n",
      "377/377 [==============================] - 10s 26ms/step - loss: 0.8475 - accuracy: 0.8175\n",
      "Epoch 28/100\n",
      "377/377 [==============================] - 10s 26ms/step - loss: 0.8068 - accuracy: 0.8229\n",
      "Epoch 29/100\n",
      "377/377 [==============================] - 10s 26ms/step - loss: 0.7685 - accuracy: 0.8291\n",
      "Epoch 30/100\n",
      "377/377 [==============================] - 10s 26ms/step - loss: 0.7334 - accuracy: 0.8340\n",
      "Epoch 31/100\n",
      "377/377 [==============================] - 10s 26ms/step - loss: 0.7066 - accuracy: 0.8376\n",
      "Epoch 32/100\n",
      "377/377 [==============================] - 9s 25ms/step - loss: 0.6862 - accuracy: 0.8417\n",
      "Epoch 33/100\n",
      "377/377 [==============================] - 10s 26ms/step - loss: 0.6636 - accuracy: 0.8427\n",
      "Epoch 34/100\n",
      "377/377 [==============================] - 10s 25ms/step - loss: 0.6456 - accuracy: 0.8443\n",
      "Epoch 35/100\n",
      "377/377 [==============================] - 9s 25ms/step - loss: 0.6346 - accuracy: 0.8466\n",
      "Epoch 36/100\n",
      "377/377 [==============================] - 10s 26ms/step - loss: 0.6204 - accuracy: 0.8459\n",
      "Epoch 37/100\n",
      "377/377 [==============================] - 10s 25ms/step - loss: 0.6091 - accuracy: 0.8472\n",
      "Epoch 38/100\n",
      "377/377 [==============================] - 10s 25ms/step - loss: 0.6027 - accuracy: 0.8486\n",
      "Epoch 39/100\n",
      "377/377 [==============================] - 10s 25ms/step - loss: 0.5922 - accuracy: 0.8497\n",
      "Epoch 40/100\n",
      "377/377 [==============================] - 10s 25ms/step - loss: 0.5862 - accuracy: 0.8493\n",
      "Epoch 41/100\n",
      "377/377 [==============================] - 10s 25ms/step - loss: 0.5793 - accuracy: 0.8498\n",
      "Epoch 42/100\n",
      "377/377 [==============================] - 9s 25ms/step - loss: 0.5705 - accuracy: 0.8506\n",
      "Epoch 43/100\n",
      "377/377 [==============================] - 10s 28ms/step - loss: 0.5646 - accuracy: 0.8506\n",
      "Epoch 44/100\n",
      "377/377 [==============================] - 10s 26ms/step - loss: 0.5589 - accuracy: 0.8502\n",
      "Epoch 45/100\n",
      "377/377 [==============================] - 11s 28ms/step - loss: 0.5533 - accuracy: 0.8499\n",
      "Epoch 46/100\n",
      "377/377 [==============================] - 10s 26ms/step - loss: 0.5542 - accuracy: 0.8516\n",
      "Epoch 47/100\n",
      "377/377 [==============================] - 10s 26ms/step - loss: 0.5536 - accuracy: 0.8524\n",
      "Epoch 48/100\n",
      "377/377 [==============================] - 10s 26ms/step - loss: 0.5432 - accuracy: 0.8533\n",
      "Epoch 49/100\n",
      "377/377 [==============================] - 10s 27ms/step - loss: 0.5393 - accuracy: 0.8525\n",
      "Epoch 50/100\n",
      "377/377 [==============================] - 10s 25ms/step - loss: 0.5388 - accuracy: 0.8510\n",
      "Epoch 51/100\n",
      "377/377 [==============================] - 10s 26ms/step - loss: 0.5355 - accuracy: 0.8509\n",
      "Epoch 52/100\n",
      "377/377 [==============================] - 10s 26ms/step - loss: 0.5319 - accuracy: 0.8506\n",
      "Epoch 53/100\n",
      "377/377 [==============================] - 10s 26ms/step - loss: 0.5325 - accuracy: 0.8536\n",
      "Epoch 54/100\n",
      "377/377 [==============================] - 10s 26ms/step - loss: 0.5372 - accuracy: 0.8481\n",
      "Epoch 55/100\n",
      "377/377 [==============================] - 10s 25ms/step - loss: 0.5293 - accuracy: 0.8520\n",
      "Epoch 56/100\n",
      "377/377 [==============================] - 10s 26ms/step - loss: 0.5193 - accuracy: 0.8522\n",
      "Epoch 57/100\n",
      "377/377 [==============================] - 10s 26ms/step - loss: 0.5188 - accuracy: 0.8520\n",
      "Epoch 58/100\n",
      "377/377 [==============================] - 10s 25ms/step - loss: 0.5194 - accuracy: 0.8511\n",
      "Epoch 59/100\n",
      "377/377 [==============================] - 10s 26ms/step - loss: 0.5196 - accuracy: 0.8511\n",
      "Epoch 60/100\n",
      "377/377 [==============================] - 10s 26ms/step - loss: 0.5194 - accuracy: 0.8524\n",
      "Epoch 61/100\n",
      "377/377 [==============================] - 10s 26ms/step - loss: 0.5173 - accuracy: 0.8516\n",
      "Epoch 62/100\n",
      "377/377 [==============================] - 10s 27ms/step - loss: 0.5144 - accuracy: 0.8516\n",
      "Epoch 63/100\n",
      "377/377 [==============================] - 10s 26ms/step - loss: 0.5078 - accuracy: 0.8523\n",
      "Epoch 64/100\n",
      "377/377 [==============================] - 10s 26ms/step - loss: 0.5062 - accuracy: 0.8525\n",
      "Epoch 65/100\n",
      "377/377 [==============================] - 10s 25ms/step - loss: 0.5042 - accuracy: 0.8530\n",
      "Epoch 66/100\n",
      "377/377 [==============================] - 10s 26ms/step - loss: 0.5053 - accuracy: 0.8519\n",
      "Epoch 67/100\n",
      "377/377 [==============================] - 10s 27ms/step - loss: 0.5035 - accuracy: 0.8526\n",
      "Epoch 68/100\n",
      "377/377 [==============================] - 10s 27ms/step - loss: 0.5006 - accuracy: 0.8535\n",
      "Epoch 69/100\n",
      "377/377 [==============================] - 10s 27ms/step - loss: 0.5015 - accuracy: 0.8525\n",
      "Epoch 70/100\n",
      "377/377 [==============================] - 10s 26ms/step - loss: 0.5021 - accuracy: 0.8516\n",
      "Epoch 71/100\n",
      "377/377 [==============================] - 10s 26ms/step - loss: 0.5032 - accuracy: 0.8516\n",
      "Epoch 72/100\n",
      "377/377 [==============================] - 10s 27ms/step - loss: 0.5007 - accuracy: 0.8530\n",
      "Epoch 73/100\n",
      "377/377 [==============================] - 10s 26ms/step - loss: 0.4952 - accuracy: 0.8533\n",
      "Epoch 74/100\n",
      "377/377 [==============================] - 10s 26ms/step - loss: 0.4959 - accuracy: 0.8534\n",
      "Epoch 75/100\n",
      "377/377 [==============================] - 10s 26ms/step - loss: 0.4931 - accuracy: 0.8521\n",
      "Epoch 76/100\n",
      "377/377 [==============================] - 10s 26ms/step - loss: 0.4946 - accuracy: 0.8516\n",
      "Epoch 77/100\n",
      "377/377 [==============================] - 10s 26ms/step - loss: 0.4937 - accuracy: 0.8520\n",
      "Epoch 78/100\n",
      "377/377 [==============================] - 10s 26ms/step - loss: 0.4911 - accuracy: 0.8525\n",
      "Epoch 79/100\n",
      "377/377 [==============================] - 10s 26ms/step - loss: 0.4903 - accuracy: 0.8530\n",
      "Epoch 80/100\n",
      "377/377 [==============================] - 10s 27ms/step - loss: 0.4886 - accuracy: 0.8531\n",
      "Epoch 81/100\n",
      "377/377 [==============================] - 10s 26ms/step - loss: 0.4876 - accuracy: 0.8535\n",
      "Epoch 82/100\n",
      "377/377 [==============================] - 10s 27ms/step - loss: 0.4882 - accuracy: 0.8520\n",
      "Epoch 83/100\n",
      "377/377 [==============================] - 10s 26ms/step - loss: 0.4863 - accuracy: 0.8532\n",
      "Epoch 84/100\n",
      "377/377 [==============================] - 10s 26ms/step - loss: 0.4900 - accuracy: 0.8506\n",
      "Epoch 85/100\n",
      "377/377 [==============================] - 10s 26ms/step - loss: 0.4896 - accuracy: 0.8526\n",
      "Epoch 86/100\n",
      "377/377 [==============================] - 10s 25ms/step - loss: 0.4898 - accuracy: 0.8522\n",
      "Epoch 87/100\n",
      "377/377 [==============================] - 10s 26ms/step - loss: 0.4817 - accuracy: 0.8531\n",
      "Epoch 88/100\n",
      "377/377 [==============================] - 10s 28ms/step - loss: 0.4810 - accuracy: 0.8541\n",
      "Epoch 89/100\n",
      "377/377 [==============================] - 10s 25ms/step - loss: 0.4807 - accuracy: 0.8533\n",
      "Epoch 90/100\n",
      "377/377 [==============================] - 10s 26ms/step - loss: 0.4795 - accuracy: 0.8534\n",
      "Epoch 91/100\n",
      "377/377 [==============================] - 10s 26ms/step - loss: 0.4776 - accuracy: 0.8540\n",
      "Epoch 92/100\n",
      "377/377 [==============================] - 10s 26ms/step - loss: 0.4759 - accuracy: 0.8555\n",
      "Epoch 93/100\n",
      "377/377 [==============================] - 10s 26ms/step - loss: 0.4773 - accuracy: 0.8543\n",
      "Epoch 94/100\n",
      "377/377 [==============================] - 10s 26ms/step - loss: 0.4769 - accuracy: 0.8546\n",
      "Epoch 95/100\n",
      "377/377 [==============================] - 10s 27ms/step - loss: 0.4794 - accuracy: 0.8534\n",
      "Epoch 96/100\n",
      "377/377 [==============================] - 10s 26ms/step - loss: 0.4781 - accuracy: 0.8535\n",
      "Epoch 97/100\n",
      "377/377 [==============================] - 10s 27ms/step - loss: 0.4790 - accuracy: 0.8540\n",
      "Epoch 98/100\n",
      "377/377 [==============================] - 10s 27ms/step - loss: 0.4838 - accuracy: 0.8536\n",
      "Epoch 99/100\n",
      "377/377 [==============================] - 10s 27ms/step - loss: 0.4867 - accuracy: 0.8521\n",
      "Epoch 100/100\n",
      "377/377 [==============================] - 10s 27ms/step - loss: 0.4758 - accuracy: 0.8529\n",
      "<keras.engine.sequential.Sequential object at 0x000002AA654D0940>\n"
     ]
    }
   ],
   "source": [
    "model = Sequential()\n",
    "model.add(Embedding(total_words, 100, input_length=max_sequence_len-1))\n",
    "model.add(Bidirectional(LSTM(150)))\n",
    "model.add(Dense(total_words, activation='softmax'))\n",
    "adam = Adam(learning_rate=0.01)\n",
    "model.compile(loss='categorical_crossentropy', optimizer=adam, metrics=['accuracy'])\n",
    "#earlystop = EarlyStopping(monitor='val_loss', min_delta=0, patience=5, verbose=0, mode='auto')\n",
    "history = model.fit(xs, ys, epochs=100, verbose=1)\n",
    "#print model.summary()\n",
    "print(model)"
   ]
  },
  {
   "cell_type": "code",
   "execution_count": 43,
   "id": "369e9d97-205b-403a-a558-5d48e687348c",
   "metadata": {
    "tags": []
   },
   "outputs": [],
   "source": [
    "import matplotlib.pyplot as plt\n",
    "\n",
    "def plot_graphs(history, string):\n",
    "    plt.plot(history.history[string])\n",
    "    plt.xlabel(\"Epochs\")\n",
    "    plt.ylabel(string)\n",
    "    plt.show()"
   ]
  },
  {
   "cell_type": "code",
   "execution_count": 44,
   "id": "536d9605-9a9a-4ec8-86cd-630449ebad34",
   "metadata": {
    "tags": []
   },
   "outputs": [
    {
     "data": {
      "image/png": "[encoded data removed]",
      "text/plain": [
       "<Figure size 640x480 with 1 Axes>"
      ]
     },
     "metadata": {},
     "output_type": "display_data"
    }
   ],
   "source": [
    "plot_graphs(history, 'accuracy')"
   ]
  },
  {
   "cell_type": "code",
   "execution_count": 45,
   "id": "4f928117-e277-47f3-8853-22aa8cbb8419",
   "metadata": {
    "tags": []
   },
   "outputs": [
    {
     "name": "stdout",
     "output_type": "stream",
     "text": [
      "1/1 [==============================] - 1s 564ms/step\n",
      "1/1 [==============================] - 0s 19ms/step\n",
      "1/1 [==============================] - 0s 17ms/step\n",
      "1/1 [==============================] - 0s 17ms/step\n",
      "1/1 [==============================] - 0s 18ms/step\n",
      "1/1 [==============================] - 0s 18ms/step\n",
      "1/1 [==============================] - 0s 19ms/step\n",
      "1/1 [==============================] - 0s 18ms/step\n",
      "1/1 [==============================] - 0s 17ms/step\n",
      "1/1 [==============================] - 0s 18ms/step\n",
      "1/1 [==============================] - 0s 17ms/step\n",
      "1/1 [==============================] - 0s 17ms/step\n",
      "1/1 [==============================] - 0s 18ms/step\n",
      "1/1 [==============================] - 0s 19ms/step\n",
      "1/1 [==============================] - 0s 19ms/step\n",
      "1/1 [==============================] - 0s 16ms/step\n",
      "1/1 [==============================] - 0s 18ms/step\n",
      "1/1 [==============================] - 0s 20ms/step\n",
      "1/1 [==============================] - 0s 20ms/step\n",
      "1/1 [==============================] - 0s 20ms/step\n",
      "1/1 [==============================] - 0s 18ms/step\n",
      "1/1 [==============================] - 0s 18ms/step\n",
      "1/1 [==============================] - 0s 19ms/step\n",
      "1/1 [==============================] - 0s 17ms/step\n",
      "1/1 [==============================] - 0s 17ms/step\n",
      "1/1 [==============================] - 0s 17ms/step\n",
      "1/1 [==============================] - 0s 17ms/step\n",
      "1/1 [==============================] - 0s 16ms/step\n",
      "1/1 [==============================] - 0s 19ms/step\n",
      "1/1 [==============================] - 0s 17ms/step\n",
      "1/1 [==============================] - 0s 18ms/step\n",
      "1/1 [==============================] - 0s 17ms/step\n",
      "1/1 [==============================] - 0s 18ms/step\n",
      "1/1 [==============================] - 0s 19ms/step\n",
      "1/1 [==============================] - 0s 19ms/step\n",
      "1/1 [==============================] - 0s 20ms/step\n",
      "1/1 [==============================] - 0s 17ms/step\n",
      "1/1 [==============================] - 0s 17ms/step\n",
      "1/1 [==============================] - 0s 17ms/step\n",
      "1/1 [==============================] - 0s 18ms/step\n",
      "1/1 [==============================] - 0s 17ms/step\n",
      "1/1 [==============================] - 0s 17ms/step\n",
      "1/1 [==============================] - 0s 18ms/step\n",
      "1/1 [==============================] - 0s 17ms/step\n",
      "1/1 [==============================] - 0s 17ms/step\n",
      "1/1 [==============================] - 0s 19ms/step\n",
      "1/1 [==============================] - 0s 16ms/step\n",
      "1/1 [==============================] - 0s 17ms/step\n",
      "1/1 [==============================] - 0s 18ms/step\n",
      "1/1 [==============================] - 0s 17ms/step\n",
      "1/1 [==============================] - 0s 18ms/step\n",
      "1/1 [==============================] - 0s 17ms/step\n",
      "1/1 [==============================] - 0s 17ms/step\n",
      "1/1 [==============================] - 0s 17ms/step\n",
      "1/1 [==============================] - 0s 17ms/step\n",
      "1/1 [==============================] - 0s 18ms/step\n",
      "1/1 [==============================] - 0s 18ms/step\n",
      "1/1 [==============================] - 0s 18ms/step\n",
      "1/1 [==============================] - 0s 17ms/step\n",
      "1/1 [==============================] - 0s 17ms/step\n",
      "1/1 [==============================] - 0s 17ms/step\n",
      "1/1 [==============================] - 0s 18ms/step\n",
      "1/1 [==============================] - 0s 17ms/step\n",
      "1/1 [==============================] - 0s 17ms/step\n",
      "1/1 [==============================] - 0s 17ms/step\n",
      "1/1 [==============================] - 0s 17ms/step\n",
      "1/1 [==============================] - 0s 17ms/step\n",
      "1/1 [==============================] - 0s 17ms/step\n",
      "1/1 [==============================] - 0s 20ms/step\n",
      "1/1 [==============================] - 0s 19ms/step\n",
      "1/1 [==============================] - 0s 18ms/step\n",
      "1/1 [==============================] - 0s 16ms/step\n",
      "1/1 [==============================] - 0s 17ms/step\n",
      "1/1 [==============================] - 0s 17ms/step\n",
      "1/1 [==============================] - 0s 17ms/step\n",
      "1/1 [==============================] - 0s 17ms/step\n",
      "1/1 [==============================] - 0s 17ms/step\n",
      "1/1 [==============================] - 0s 17ms/step\n",
      "1/1 [==============================] - 0s 22ms/step\n",
      "1/1 [==============================] - 0s 16ms/step\n",
      "1/1 [==============================] - 0s 19ms/step\n",
      "1/1 [==============================] - 0s 17ms/step\n",
      "1/1 [==============================] - 0s 18ms/step\n",
      "1/1 [==============================] - 0s 17ms/step\n",
      "1/1 [==============================] - 0s 17ms/step\n",
      "1/1 [==============================] - 0s 17ms/step\n",
      "1/1 [==============================] - 0s 19ms/step\n",
      "1/1 [==============================] - 0s 17ms/step\n",
      "1/1 [==============================] - 0s 17ms/step\n",
      "1/1 [==============================] - 0s 17ms/step\n",
      "1/1 [==============================] - 0s 17ms/step\n",
      "1/1 [==============================] - 0s 18ms/step\n",
      "1/1 [==============================] - 0s 17ms/step\n",
      "1/1 [==============================] - 0s 20ms/step\n",
      "1/1 [==============================] - 0s 17ms/step\n",
      "1/1 [==============================] - 0s 18ms/step\n",
      "1/1 [==============================] - 0s 17ms/step\n",
      "1/1 [==============================] - 0s 22ms/step\n",
      "1/1 [==============================] - 0s 17ms/step\n",
      "1/1 [==============================] - 0s 20ms/step\n",
      "I've got a bad feeling about this call waiting for a collar and a tie young love and he had say he had no more bride out by your eyes prison beer died they were mistaken to love my love best now on the rocky road of dublin is green back by by snow and ones was days it were a bride in your eyes are warm away by fray grow but love me for to love me kind and thou free bond art night still my bride for sky fiddlin gem to take a theres desolation rove in the blue mounted the green fainted is green\n"
     ]
    }
   ],
   "source": [
    "seed_text = \"I've got a bad feeling about this\"\n",
    "next_words = 100\n",
    "  \n",
    "for _ in range(next_words):\n",
    "    token_list = tokenizer.texts_to_sequences([seed_text])[0]\n",
    "    token_list = pad_sequences([token_list], maxlen=max_sequence_len-1, padding='pre')\n",
    "    predicted = np.argmax(model.predict(token_list), axis=-1)\n",
    "    output_word = \"\"\n",
    "    for word, index in tokenizer.word_index.items():\n",
    "        if index == predicted:\n",
    "            output_word = word\n",
    "            break\n",
    "    seed_text += \" \" + output_word\n",
    "print(seed_text)"
   ]
  },
  {
   "cell_type": "code",
   "execution_count": null,
   "id": "314fc682-31bb-4fbc-a60a-f77a2ce70c79",
   "metadata": {},
   "outputs": [],
   "source": []
  },
  {
   "cell_type": "markdown",
   "id": "1bda8d1e-db27-424c-ab15-6df9df0489f7",
   "metadata": {
    "tags": []
   },
   "source": [
    "Biblioteca: music21"
   ]
  },
  {
   "cell_type": "code",
   "execution_count": null,
   "id": "fd231ba4-999b-4064-a49f-48f715e5d69f",
   "metadata": {},
   "outputs": [],
   "source": []
  }
 ],
 "metadata": {
  "kernelspec": {
   "display_name": "Python 3 (ipykernel)",
   "language": "python",
   "name": "python3"
  },
  "language_info": {
   "codemirror_mode": {
    "name": "ipython",
    "version": 3
   },
   "file_extension": ".py",
   "mimetype": "text/x-python",
   "name": "python",
   "nbconvert_exporter": "python",
   "pygments_lexer": "ipython3",
   "version": "3.9.16"
  },
  "toc-autonumbering": true
 },
 "nbformat": 4,
 "nbformat_minor": 5
}
